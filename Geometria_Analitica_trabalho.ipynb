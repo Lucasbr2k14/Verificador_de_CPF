{
  "nbformat": 4,
  "nbformat_minor": 0,
  "metadata": {
    "colab": {
      "provenance": [],
      "authorship_tag": "ABX9TyOyOga1EcclYd8r+iOyYxDM"
    },
    "kernelspec": {
      "name": "python3",
      "display_name": "Python 3"
    },
    "language_info": {
      "name": "python"
    }
  },
  "cells": [
    {
      "cell_type": "markdown",
      "source": [
        "# Calcular primeiro dígito verificador do C.P.F.\n",
        "\n",
        "$\\vec u = (2,3,4,5,6,7,8,9,10)$\n",
        "\n",
        "$\\vec b = (1,2,3,5,6,7,8,9)$\n",
        "\n",
        "$\\vec u \\cdot \\vec b = (1*2)+(2*3)+(3*4)+(4*5)+(5*6)+(6*7)+(7*8)+(9*10) = 258$\n",
        "\n",
        "$(\\vec u \\cdot \\vec b) \\mod 11 $\n",
        "\n",
        "Após o cálculo de resto da divisão uma condição sera feita se resto for maior do que zero será (11-resto) e se zero o primeiro digito será 0.\n",
        "\n",
        "# Calcular segundo dígito varificador\n",
        "\n",
        "Sera feito o mesmo calculo do primeiro digito mas com o segundo digito incluso no CPF a logica sendo assim a mesma.\n",
        "\n",
        "$\\vec u = (2,3,4,5,6,7,8,9,10,11)$\n",
        "\n",
        "$\\vec b =(1,2,3,4,5,6,7,8,9,0)$\n",
        "\n",
        "$\\vec u \\cdot \\vec b = (1*2)+(2*3)+(3*4)+(4*5)+(5*6)+(6*7)+(7*8)+(9*10)+(0*11) = 258$\n",
        "\n",
        "$(\\vec u \\cdot \\vec b) \\mod 11$\n",
        "\n"
      ],
      "metadata": {
        "id": "tozjmhiodQ7y"
      }
    },
    {
      "cell_type": "code",
      "source": [
        "from IPython.core.display import display, HTML"
      ],
      "metadata": {
        "id": "gFPrCECNUGvj"
      },
      "execution_count": null,
      "outputs": []
    },
    {
      "cell_type": "code",
      "source": [
        "def digitos_verificadores(u):\n",
        "  b = [i for i in range(10, 1, -1)]\n",
        "\n",
        "  produto = produto_escalar(u,b)\n",
        "\n",
        "  if(produto % 11 > 1 and produto % 11 <= 11):\n",
        "    u.append(11 - (produto % 11))\n",
        "  else:\n",
        "    u.append(0)\n",
        "\n",
        "  b = [i for i in range(11, 1, -1)]\n",
        "\n",
        "  produto = produto_escalar(u,b)\n",
        "\n",
        "  if(produto % 11 > 1 and produto % 11 <= 11):\n",
        "    u.append(11 - (produto % 11))\n",
        "  else:\n",
        "    u.append(0)\n",
        "\n",
        "  return u"
      ],
      "metadata": {
        "id": "Jk3WC-CfnLY2"
      },
      "execution_count": null,
      "outputs": []
    },
    {
      "cell_type": "code",
      "source": [
        "def produto_escalar(vector_a, vector_b):\n",
        "  res = 0\n",
        "  if(len(vector_a) == len(vector_b)):\n",
        "    for i in range(0, len(vector_a)):\n",
        "      res += vector_a[i] * vector_b[i]\n",
        "\n",
        "  return res\n",
        "\n",
        "\n",
        "def string_para_lista(string:str):\n",
        "  a = string.replace(\".\", \"\")\n",
        "  a = a.replace(\"-\", \"\")\n",
        "  return [int(i) for i in a]\n",
        "\n",
        "\n",
        "def tirar_digitos(string:str):\n",
        "  return string[0:11]\n",
        "\n",
        "\n",
        "def verificar_cpf(cpf):\n",
        "  lista_inteiros = string_para_lista(cpf)\n",
        "  lista_intiros_sem_carateres = string_para_lista(tirar_digitos(cpf))\n",
        "\n",
        "  verificador = digitos_verificadores(lista_intiros_sem_carateres)\n",
        "\n",
        "  if(verificador[9] == lista_inteiros[9] and verificador[10] == lista_inteiros[10]):\n",
        "    display(HTML(f'<p style=\"background-color: green; padding: 8px, 8px, 8px, 8px\">CPF é válido</p>'))\n",
        "  else:\n",
        "    display(HTML(f'<p style=\"background-color: red; padding: 8px, 8px, 8px, 8px\">CPF é invalido</p>'))"
      ],
      "metadata": {
        "id": "YQ_tzVogaQiJ"
      },
      "execution_count": null,
      "outputs": []
    },
    {
      "cell_type": "code",
      "source": [
        "cpf = input(\"Qual o cpf: \")\n",
        "verificar_cpf(cpf)"
      ],
      "metadata": {
        "colab": {
          "base_uri": "https://localhost:8080/",
          "height": 64
        },
        "id": "6kyMpdydRDD5",
        "outputId": "114ea165-1ce6-4473-ca0f-d49b218a1d43"
      },
      "execution_count": 12,
      "outputs": [
        {
          "name": "stdout",
          "output_type": "stream",
          "text": [
            "Qual o cpf: 111.111.111-00\n"
          ]
        },
        {
          "output_type": "display_data",
          "data": {
            "text/plain": [
              "<IPython.core.display.HTML object>"
            ],
            "text/html": [
              "<p style=\"background-color: red; padding: 8px, 8px, 8px, 8px\">CPF é invalido</p>"
            ]
          },
          "metadata": {}
        }
      ]
    }
  ]
}